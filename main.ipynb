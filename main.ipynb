{
 "cells": [
  {
   "cell_type": "markdown",
   "metadata": {},
   "source": [
    "# Open FDA API Project"
   ]
  },
  {
   "cell_type": "markdown",
   "metadata": {},
   "source": [
    "#### Outline:\n",
    "\n",
    "1. Download data from FDA\n",
    "    1. Identify important data\n",
    "    2. Write API query\n",
    "    3. Verify data\n",
    "    4. Convert to table\n",
    "2. Store data in a database\n",
    "    1. Initialize database\n",
    "    2. Export to database\n",
    "    3. Verify database\n",
    "3. Automate the process\n",
    "    1. Set up timer to run weekly\n",
    "    2. Download data from FDA\n",
    "    3. Check for updates in database\n",
    "    4. Update database if necessary\n",
    "    5. Output log report    "
   ]
  },
  {
   "cell_type": "markdown",
   "metadata": {},
   "source": [
    "### 1. Download Data from FDA"
   ]
  },
  {
   "cell_type": "code",
   "execution_count": null,
   "metadata": {},
   "outputs": [],
   "source": [
    "import requests"
   ]
  },
  {
   "cell_type": "code",
   "execution_count": 83,
   "metadata": {
    "scrolled": true
   },
   "outputs": [
    {
     "name": "stdout",
     "output_type": "stream",
     "text": [
      "Text matches: [{'object_url': 'https://api.github.com/repositories/4290214', 'object_type': 'Repository', 'property': 'description', 'fragment': 'Requests + Gevent = <3', 'matches': [{'text': 'Requests', 'indices': [0, 8]}]}]\n"
     ]
    }
   ],
   "source": [
    "response = requests.get(\n",
    "    'https://api.github.com/search/repositories',\n",
    "    params={'q': 'requests+language:python'},\n",
    "    headers={'Accept': 'application/vnd.github.v3.text-match+json'},\n",
    ")\n",
    "\n",
    "# View the new `text-matches` array which provides information\n",
    "# about your search term within the results\n",
    "json_response = response.json()\n",
    "repository = json_response['items'][0]\n",
    "print(f'Text matches: {repository[\"text_matches\"]}')"
   ]
  },
  {
   "cell_type": "code",
   "execution_count": 114,
   "metadata": {},
   "outputs": [
    {
     "data": {
      "text/plain": [
       "{'meta': {'disclaimer': 'Do not rely on openFDA to make decisions regarding medical care. While we make every effort to ensure that data is accurate, you should assume all results are unvalidated. We may limit or otherwise restrict your access to the API in line with our Terms of Service.',\n",
       "  'terms': 'https://open.fda.gov/terms/',\n",
       "  'license': 'https://open.fda.gov/license/',\n",
       "  'last_updated': '2021-04-19',\n",
       "  'results': {'skip': 0, 'limit': 1, 'total': 17244}},\n",
       " 'results': [{'third_party_flag': 'Y',\n",
       "   'city': 'Melbourne VIC',\n",
       "   'advisory_committee_description': 'Cardiovascular',\n",
       "   'address_1': 'Level 5, 141 Flinders Lane',\n",
       "   'address_2': '',\n",
       "   'statement_or_summary': 'Summary',\n",
       "   'product_code': 'DQD',\n",
       "   'openfda': {'registration_number': ['3012828634',\n",
       "     '3007236648',\n",
       "     '3017187724',\n",
       "     '3017069533',\n",
       "     '3006531066',\n",
       "     '1926681',\n",
       "     '3011359729',\n",
       "     '3010262192',\n",
       "     '3004009431',\n",
       "     '3001805134',\n",
       "     '3004415095',\n",
       "     '3011651230',\n",
       "     '3012421607',\n",
       "     '1629623',\n",
       "     '1930027',\n",
       "     '3015134086',\n",
       "     '3017140534',\n",
       "     '1531264',\n",
       "     '3006782137',\n",
       "     '3009243923',\n",
       "     '9681384',\n",
       "     '3008248622',\n",
       "     '3015972834',\n",
       "     '3010603376',\n",
       "     '3013757696',\n",
       "     '3004541594',\n",
       "     '2110898',\n",
       "     '3004594267',\n",
       "     '3003399824',\n",
       "     '3012494290',\n",
       "     '2133641',\n",
       "     '3014311153',\n",
       "     '3004215265',\n",
       "     '3014545197',\n",
       "     '3013250653',\n",
       "     '2434008',\n",
       "     '3016442138',\n",
       "     '3013659863',\n",
       "     '3004595287',\n",
       "     '3011533632',\n",
       "     '3010605677',\n",
       "     '3012678246',\n",
       "     '3016678045'],\n",
       "    'fei_number': ['3012828634',\n",
       "     '3007236648',\n",
       "     '3017187724',\n",
       "     '3017069533',\n",
       "     '3006531066',\n",
       "     '1926681',\n",
       "     '3011359729',\n",
       "     '3010262192',\n",
       "     '3004009431',\n",
       "     '3001805134',\n",
       "     '3002865632',\n",
       "     '3004415095',\n",
       "     '3011651230',\n",
       "     '3012421607',\n",
       "     '1629623',\n",
       "     '1930027',\n",
       "     '3015134086',\n",
       "     '3017140534',\n",
       "     '3009243923',\n",
       "     '3005351361',\n",
       "     '3008248622',\n",
       "     '3015972834',\n",
       "     '3010603376',\n",
       "     '3002807626',\n",
       "     '3013757696',\n",
       "     '3004541594',\n",
       "     '2110898',\n",
       "     '3004594267',\n",
       "     '3003399824',\n",
       "     '3012494290',\n",
       "     '3014311153',\n",
       "     '3004215265',\n",
       "     '3014545197',\n",
       "     '3013250653',\n",
       "     '2434008',\n",
       "     '3016442138',\n",
       "     '3013659863',\n",
       "     '3000203466',\n",
       "     '3004595287',\n",
       "     '3011533632',\n",
       "     '3010605677',\n",
       "     '3012678246',\n",
       "     '3016678045'],\n",
       "    'device_name': 'Stethoscope, Electronic',\n",
       "    'medical_specialty_description': 'Cardiovascular',\n",
       "    'regulation_number': '870.1875',\n",
       "    'device_class': '2'},\n",
       "   'zip_code': '3000',\n",
       "   'applicant': 'StethoCloud Pty.Ltd (CliniCloud)',\n",
       "   'decision_date': '2018-01-25',\n",
       "   'decision_code': 'SESE',\n",
       "   'country_code': 'AU',\n",
       "   'device_name': 'CliniCloud Stethoscope',\n",
       "   'advisory_committee': 'CV',\n",
       "   'contact': 'Andrew  Lin',\n",
       "   'expedited_review_flag': '',\n",
       "   'k_number': 'K173448',\n",
       "   'state': '',\n",
       "   'date_received': '2017-11-06',\n",
       "   'review_advisory_committee': 'CV',\n",
       "   'postal_code': '3000',\n",
       "   'decision_description': 'Substantially Equivalent',\n",
       "   'clearance_type': 'Traditional'}]}"
      ]
     },
     "execution_count": 114,
     "metadata": {},
     "output_type": "execute_result"
    }
   ],
   "source": [
    "url = 'https://api.fda.gov/device/510k.json?search=advisory_committee:cv&limit=1'\n",
    "# url = 'https://api.fda.gov/device/510k.json?search=foot'\n",
    "response = requests.get(url = url)\n",
    "repo = response.json()\n",
    "repo"
   ]
  },
  {
   "cell_type": "code",
   "execution_count": 2,
   "metadata": {},
   "outputs": [],
   "source": [
    "# Critical data to download:\n",
    "#     date of review\n",
    "#     decision code:\n",
    "#         SEKD = Substantially Equivalent - Kit with Drugs\n",
    "#         SESD = Substantially Equivalent with Drug\n",
    "#         SESE = Substantially Equivalent\n",
    "#         SESK = Substantially Equivalent - Kit\n",
    "#         SESP = Substantially Equivalent - Postmarket Surveillance Required\n",
    "#         SESU = Substantially Equivalent - With Limitations\n",
    "#         SESR = Potential Recall\n",
    "#     clearance type\n",
    "#     device name\n",
    "#     device class\n",
    "#     device type\n",
    "#     company name\n",
    "#     country\n",
    "#     k_number (link to 510k summary?)"
   ]
  },
  {
   "cell_type": "code",
   "execution_count": null,
   "metadata": {},
   "outputs": [],
   "source": [
    "# Start small and then improve:\n",
    "#     1. download one device into a dataframe with three columns\n",
    "#     2. convert one dataframe into an SQL table\n",
    "#     3. return to step 1 and expand number of devices\n",
    "#     4. return to step 1 and expand number of columns\n"
   ]
  },
  {
   "cell_type": "code",
   "execution_count": null,
   "metadata": {},
   "outputs": [],
   "source": [
    "\n"
   ]
  },
  {
   "cell_type": "code",
   "execution_count": 1,
   "metadata": {},
   "outputs": [],
   "source": [
    "# Empty cell for spacing.\n",
    "\n",
    "\n",
    "\n",
    "\n",
    "\n",
    "\n",
    "\n",
    "\n",
    "\n"
   ]
  }
 ],
 "metadata": {
  "kernelspec": {
   "display_name": "Python 3",
   "language": "python",
   "name": "python3"
  },
  "language_info": {
   "codemirror_mode": {
    "name": "ipython",
    "version": 3
   },
   "file_extension": ".py",
   "mimetype": "text/x-python",
   "name": "python",
   "nbconvert_exporter": "python",
   "pygments_lexer": "ipython3",
   "version": "3.7.9"
  }
 },
 "nbformat": 4,
 "nbformat_minor": 4
}
